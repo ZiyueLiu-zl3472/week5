{
  "nbformat": 4,
  "nbformat_minor": 0,
  "metadata": {
    "colab": {
      "provenance": [],
      "authorship_tag": "ABX9TyOmlDpRQsenCak5iyI9B0x0",
      "include_colab_link": true
    },
    "kernelspec": {
      "name": "python3",
      "display_name": "Python 3"
    },
    "language_info": {
      "name": "python"
    }
  },
  "cells": [
    {
      "cell_type": "markdown",
      "metadata": {
        "id": "view-in-github",
        "colab_type": "text"
      },
      "source": [
        "<a href=\"https://colab.research.google.com/github/ZiyueLiu-zl3472/week5/blob/main/BondPrice_File.ipynb\" target=\"_parent\"><img src=\"https://colab.research.google.com/assets/colab-badge.svg\" alt=\"Open In Colab\"/></a>"
      ]
    },
    {
      "cell_type": "code",
      "execution_count": null,
      "metadata": {
        "id": "zciDMLvGKWZC"
      },
      "outputs": [],
      "source": [
        "import numpy as np\n",
        "\n",
        "def getBondPrice(y, face, couponRate, m, ppy=1):\n",
        "    years=np.arange(1,m*ppy+1)\n",
        "    df=1/(1+y/ppy)\n",
        "    dfs=df**years\n",
        "    cpn=couponRate*face/ppy\n",
        "    cf=dfs*cpn\n",
        "\n",
        "    BondPrice=sum(cf)+dfs[-1]*face\n",
        "    return(BondPrice)\n",
        "\n",
        "# Test values\n",
        "\n",
        "y = 0.03\n",
        "face = 2000000\n",
        "couponRate = 0.04\n",
        "m = 10\n",
        "ppy=1\n",
        "ppy=2\n",
        "\n",
        "getBondPrice(y, face, couponRate, m, ppy)"
      ]
    }
  ]
}