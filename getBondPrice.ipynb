{
  "nbformat": 4,
  "nbformat_minor": 0,
  "metadata": {
    "colab": {
      "provenance": [],
      "authorship_tag": "ABX9TyPaCYJn+eTYwSoR7N0dhAeb",
      "include_colab_link": true
    },
    "kernelspec": {
      "name": "python3",
      "display_name": "Python 3"
    },
    "language_info": {
      "name": "python"
    }
  },
  "cells": [
    {
      "cell_type": "markdown",
      "metadata": {
        "id": "view-in-github",
        "colab_type": "text"
      },
      "source": [
        "<a href=\"https://colab.research.google.com/github/ZiyueLiu-zl3472/week5/blob/main/getBondPrice.ipynb\" target=\"_parent\"><img src=\"https://colab.research.google.com/assets/colab-badge.svg\" alt=\"Open In Colab\"/></a>"
      ]
    },
    {
      "cell_type": "code",
      "execution_count": 1,
      "metadata": {
        "colab": {
          "base_uri": "https://localhost:8080/"
        },
        "id": "TEGIE8ooCXwm",
        "outputId": "e94465c8-7a4c-487b-f5c1-b21d30f40872"
      },
      "outputs": [
        {
          "output_type": "stream",
          "name": "stdout",
          "text": [
            "1 0.970873786407767\n",
            "1 0.9425959091337544\n",
            "1 0.9151416593531596\n",
            "1 0.888487047915689\n",
            "1 0.8626087843841641\n",
            "1 0.8374842566836544\n",
            "1 0.8130915113433539\n",
            "1 0.7894092343139358\n",
            "1 0.7664167323436271\n",
            "1 0.7440939148967253\n"
          ]
        },
        {
          "output_type": "execute_result",
          "data": {
            "text/plain": [
              "2170604.056735517"
            ]
          },
          "metadata": {},
          "execution_count": 1
        }
      ],
      "source": [
        "import numpy as np\n",
        "\n",
        "def getBondPrice(y, face, couponRate, m, ppy=1):\n",
        "    df0=1/(1+y/ppy)\n",
        "    dcf=0\n",
        "    df=1\n",
        "    cpn=couponRate*face/ppy\n",
        "    for i in range (1,m+1):\n",
        "      df*=df0\n",
        "      dcf+=df*cpn\n",
        "      print(1,df)\n",
        "\n",
        "    BondPrice=dcf+face*df\n",
        "\n",
        "    return(BondPrice)\n",
        "\n",
        "# Test values\n",
        "\n",
        "y = 0.03\n",
        "face = 2000000\n",
        "couponRate = 0.04\n",
        "m = 10\n",
        "ppy = 1\n",
        "ppy = 2\n",
        "#<no ppy value passed>\n",
        "\n",
        "getBondPrice(y, face, couponRate, m)\n"
      ]
    },
    {
      "cell_type": "code",
      "source": [
        "m=10\n",
        "years=np.arange(1,m+1)\n",
        "years\n",
        "df=1/(1+.03)\n",
        "dfs=df**years\n",
        "dfs\n",
        "\n",
        "cf=dfs*.04*2000000\n",
        "cf\n",
        "\n",
        "price=sum(cf)+dfs[-1]*2000000\n",
        "price"
      ],
      "metadata": {
        "colab": {
          "base_uri": "https://localhost:8080/"
        },
        "id": "YKQtuao9C8oL",
        "outputId": "2c7c4a31-4821-4e72-d4b8-a83c5453a303"
      },
      "execution_count": 11,
      "outputs": [
        {
          "output_type": "execute_result",
          "data": {
            "text/plain": [
              "2170604.056735517"
            ]
          },
          "metadata": {},
          "execution_count": 11
        }
      ]
    }
  ]
}