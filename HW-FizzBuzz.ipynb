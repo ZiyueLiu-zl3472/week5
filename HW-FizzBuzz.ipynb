{
  "nbformat": 4,
  "nbformat_minor": 0,
  "metadata": {
    "colab": {
      "provenance": [],
      "authorship_tag": "ABX9TyPc5B9techXJ/+xXlR0Jhxc",
      "include_colab_link": true
    },
    "kernelspec": {
      "name": "python3",
      "display_name": "Python 3"
    },
    "language_info": {
      "name": "python"
    }
  },
  "cells": [
    {
      "cell_type": "markdown",
      "metadata": {
        "id": "view-in-github",
        "colab_type": "text"
      },
      "source": [
        "<a href=\"https://colab.research.google.com/github/ZiyueLiu-zl3472/week5/blob/main/FizzBuzz.ipynb\" target=\"_parent\"><img src=\"https://colab.research.google.com/assets/colab-badge.svg\" alt=\"Open In Colab\"/></a>"
      ]
    },
    {
      "cell_type": "code",
      "execution_count": 3,
      "metadata": {
        "colab": {
          "base_uri": "https://localhost:8080/"
        },
        "id": "bZtnSPPVE0MO",
        "outputId": "1bfc9cd6-8668-45ff-f23b-facfffacf8f9"
      },
      "outputs": [
        {
          "output_type": "stream",
          "name": "stdout",
          "text": [
            "[1, 2, 'fizz', 4, 'buzz', 'fizz', 7, 8, 'fizz', 'buzz', 11, 'fizz', 13, 14, 'fizzbuzz']\n",
            "[1, 2, 3, 4]\n"
          ]
        }
      ],
      "source": [
        "import numpy as np\n",
        "\n",
        "def FizzBuzz(start, finish):\n",
        "    outlist = []\n",
        "    for i in range(start,finish+1):\n",
        "      if i%3==0 and i%5==0:\n",
        "        outlist.append(\"fizzbuzz\")\n",
        "      elif i%5==0:\n",
        "        outlist.append(\"buzz\")\n",
        "      elif i%3==0:\n",
        "        outlist.append(\"fizz\")\n",
        "      else:\n",
        "        outlist.append(i)\n",
        "    return(outlist)\n",
        "\n",
        "print(FizzBuzz(1,15))\n",
        "\n",
        "\n",
        "# Tools: Append to a list\n",
        "\n",
        "myEmptyList = []\n",
        "for i in range(1,5):\n",
        "    myEmptyList.append(i)\n",
        "\n",
        "print(myEmptyList)\n"
      ]
    },
    {
      "cell_type": "code",
      "source": [
        "start=40\n",
        "finish=60\n",
        "\n",
        "fb=np.arange(start,finish+1)\n",
        "fb\n",
        "\n",
        "fbMod3=np.mod(fb,3)  #fb%3\n",
        "mod3=fbMod3 ==0\n",
        "mod3\n",
        "\n",
        "\n"
      ],
      "metadata": {
        "colab": {
          "base_uri": "https://localhost:8080/"
        },
        "id": "JoiNY4zoFJI3",
        "outputId": "0d058660-191c-4604-bd9c-2a83483629ff"
      },
      "execution_count": 12,
      "outputs": [
        {
          "output_type": "execute_result",
          "data": {
            "text/plain": [
              "[42, 45, 48, 51, 54, 57, 60]"
            ]
          },
          "metadata": {},
          "execution_count": 12
        }
      ]
    }
  ]
}
