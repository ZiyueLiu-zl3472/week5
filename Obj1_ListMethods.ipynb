{
  "cells": [
    {
      "cell_type": "markdown",
      "metadata": {
        "id": "view-in-github",
        "colab_type": "text"
      },
      "source": [
        "<a href=\"https://colab.research.google.com/github/ZiyueLiu-zl3472/week5/blob/main/Obj1_ListMethods.ipynb\" target=\"_parent\"><img src=\"https://colab.research.google.com/assets/colab-badge.svg\" alt=\"Open In Colab\"/></a>"
      ]
    },
    {
      "cell_type": "raw",
      "metadata": {
        "id": "KSqobGiY9Fxr"
      },
      "source": [
        "Lists\n",
        "Methods: pop, insert, remove, reverse, append, extend"
      ]
    },
    {
      "cell_type": "code",
      "execution_count": null,
      "metadata": {
        "id": "9f1x-0uW9Fxu"
      },
      "outputs": [],
      "source": [
        "alphabet = ['a','b','c','d']"
      ]
    },
    {
      "cell_type": "code",
      "execution_count": null,
      "metadata": {
        "id": "mV5BrS5g9Fxv",
        "outputId": "a3ff9f0f-510a-4a90-c5e1-eca3e8669ce5",
        "colab": {
          "base_uri": "https://localhost:8080/"
        }
      },
      "outputs": [
        {
          "output_type": "execute_result",
          "data": {
            "text/plain": [
              "list"
            ]
          },
          "metadata": {},
          "execution_count": 2
        }
      ],
      "source": [
        "type(alphabet)"
      ]
    },
    {
      "cell_type": "code",
      "execution_count": null,
      "metadata": {
        "id": "BpIDCdby9Fxw",
        "outputId": "5030c316-1b2b-475a-8d6e-62cd296d5ad8",
        "colab": {
          "base_uri": "https://localhost:8080/",
          "height": 35
        }
      },
      "outputs": [
        {
          "output_type": "execute_result",
          "data": {
            "text/plain": [
              "'d'"
            ],
            "application/vnd.google.colaboratory.intrinsic+json": {
              "type": "string"
            }
          },
          "metadata": {},
          "execution_count": 3
        }
      ],
      "source": [
        "alphabet[-1]\n",
        "#last element"
      ]
    },
    {
      "cell_type": "raw",
      "metadata": {
        "id": "upFzpLLy9Fxx"
      },
      "source": [
        "Assignment\n",
        "Create and print the sequence of coupon payments\n",
        "Retrieve the last payment by using a negative index\n",
        "Print the payment periods"
      ]
    },
    {
      "cell_type": "code",
      "execution_count": null,
      "metadata": {
        "id": "yzf_PYTY9Fxx",
        "outputId": "faa3ebbf-e3b1-440a-affb-b8e1901a270b",
        "colab": {
          "base_uri": "https://localhost:8080/"
        }
      },
      "outputs": [
        {
          "output_type": "stream",
          "name": "stdout",
          "text": [
            "a\n",
            "b\n",
            "c\n",
            "d\n"
          ]
        }
      ],
      "source": [
        "for a in alphabet:\n",
        "    print(a)"
      ]
    },
    {
      "cell_type": "code",
      "execution_count": null,
      "metadata": {
        "id": "QzSOHXOS9Fxy",
        "outputId": "9a2f27a7-25a7-4ce1-d7d5-be74512b288f",
        "colab": {
          "base_uri": "https://localhost:8080/"
        }
      },
      "outputs": [
        {
          "output_type": "stream",
          "name": "stdout",
          "text": [
            "16\n",
            "8.0\n",
            "4.0\n",
            "2.0\n",
            "1.0\n"
          ]
        }
      ],
      "source": [
        "n = 16\n",
        "while n >= 1:\n",
        "    print(n)\n",
        "    n /= 2"
      ]
    },
    {
      "cell_type": "raw",
      "metadata": {
        "id": "vb1JCVvI9Fxy"
      },
      "source": [
        "Assignment\n",
        "Write a function that takes n as an argument\n",
        "print n\n",
        "Update the value of n by assinging it half its value\n",
        "Use a while loop to repeat until n == 1"
      ]
    },
    {
      "cell_type": "code",
      "execution_count": 1,
      "metadata": {
        "id": "wFZht1oJ9Fxz",
        "outputId": "81452876-5139-4147-d874-9f91670cc85b",
        "colab": {
          "base_uri": "https://localhost:8080/",
          "height": 103
        }
      },
      "outputs": [
        {
          "output_type": "stream",
          "name": "stdout",
          "text": [
            "\n",
            "hi \n",
            "hi how \n",
            "hi how are \n"
          ]
        },
        {
          "output_type": "execute_result",
          "data": {
            "text/plain": [
              "'hi how are you '"
            ],
            "application/vnd.google.colaboratory.intrinsic+json": {
              "type": "string"
            }
          },
          "metadata": {},
          "execution_count": 1
        }
      ],
      "source": [
        "wordlist = ['hi','how','are','you']\n",
        "sentence = ''\n",
        "for i in wordlist:\n",
        "    print(sentence)\n",
        "    sentence += i + ' '\n",
        "sentence"
      ]
    },
    {
      "cell_type": "raw",
      "metadata": {
        "id": "2gnK2vrx9Fxz"
      },
      "source": [
        "Assignment\n",
        "Use string manipulation to send an email"
      ]
    },
    {
      "cell_type": "code",
      "execution_count": null,
      "metadata": {
        "id": "Tsmc0RcX9Fx0"
      },
      "outputs": [],
      "source": [
        "# List Methods\n",
        "# sort, append, duplicate, insert, extend"
      ]
    },
    {
      "cell_type": "code",
      "execution_count": 2,
      "metadata": {
        "id": "vO4xVxnK9Fx0",
        "outputId": "9f41d651-cd76-4fcc-e0a8-6693abba65bc",
        "colab": {
          "base_uri": "https://localhost:8080/"
        }
      },
      "outputs": [
        {
          "output_type": "execute_result",
          "data": {
            "text/plain": [
              "[5, 3, 1]"
            ]
          },
          "metadata": {},
          "execution_count": 2
        }
      ],
      "source": [
        "numlist = list([5,3,1])\n",
        "numlist"
      ]
    },
    {
      "cell_type": "code",
      "execution_count": 3,
      "metadata": {
        "id": "qxhnqDyH9Fx0",
        "outputId": "8e46d313-f604-43e5-a611-7b1f19a181a8",
        "colab": {
          "base_uri": "https://localhost:8080/"
        }
      },
      "outputs": [
        {
          "output_type": "execute_result",
          "data": {
            "text/plain": [
              "[1, 3, 5]"
            ]
          },
          "metadata": {},
          "execution_count": 3
        }
      ],
      "source": [
        "numlist.sort()\n",
        "numlist"
      ]
    },
    {
      "cell_type": "code",
      "execution_count": 4,
      "metadata": {
        "id": "cT9MFlY19Fx0",
        "outputId": "3e2283cb-7321-43f5-a0fe-00e3114e5573",
        "colab": {
          "base_uri": "https://localhost:8080/"
        }
      },
      "outputs": [
        {
          "output_type": "stream",
          "name": "stdout",
          "text": [
            "[5, 3, 1]\n",
            "[1, 3, 5]\n"
          ]
        }
      ],
      "source": [
        "numlist.sort(reverse = True)\n",
        "print(numlist)\n",
        "numlist.sort(reverse = False)\n",
        "print(numlist)"
      ]
    },
    {
      "cell_type": "code",
      "execution_count": 5,
      "metadata": {
        "id": "YUQfflDJ9Fx1",
        "outputId": "72a5c3d0-9b86-46ac-cd67-c1924700f6cc",
        "colab": {
          "base_uri": "https://localhost:8080/"
        }
      },
      "outputs": [
        {
          "output_type": "execute_result",
          "data": {
            "text/plain": [
              "2"
            ]
          },
          "metadata": {},
          "execution_count": 5
        }
      ],
      "source": [
        "numlist.index(5)"
      ]
    },
    {
      "cell_type": "code",
      "execution_count": 6,
      "metadata": {
        "id": "f2kGdNlS9Fx1",
        "outputId": "8b80eba5-c6b1-4652-e0ee-d542c8dd3af9",
        "colab": {
          "base_uri": "https://localhost:8080/"
        }
      },
      "outputs": [
        {
          "output_type": "execute_result",
          "data": {
            "text/plain": [
              "[5, 3, 1]"
            ]
          },
          "metadata": {},
          "execution_count": 6
        }
      ],
      "source": [
        "numlist.reverse()\n",
        "numlist"
      ]
    },
    {
      "cell_type": "code",
      "execution_count": 7,
      "metadata": {
        "id": "PVItCQ8k9Fx1",
        "outputId": "ca1b100a-0222-496f-e9c8-e76532104444",
        "colab": {
          "base_uri": "https://localhost:8080/"
        }
      },
      "outputs": [
        {
          "output_type": "execute_result",
          "data": {
            "text/plain": [
              "[1, 3, 5]"
            ]
          },
          "metadata": {},
          "execution_count": 7
        }
      ],
      "source": [
        "numlist.reverse()\n",
        "numlist"
      ]
    },
    {
      "cell_type": "code",
      "execution_count": 8,
      "metadata": {
        "id": "sdnEXKn29Fx1",
        "outputId": "a4ffbc2f-74b9-46db-b2dd-8741082bd06c",
        "colab": {
          "base_uri": "https://localhost:8080/"
        }
      },
      "outputs": [
        {
          "output_type": "execute_result",
          "data": {
            "text/plain": [
              "[1, 3, 5, 6]"
            ]
          },
          "metadata": {},
          "execution_count": 8
        }
      ],
      "source": [
        "numlist.append(6)\n",
        "numlist\n",
        "#insert elements at the end of the array"
      ]
    },
    {
      "cell_type": "code",
      "execution_count": 9,
      "metadata": {
        "id": "x-jCKkuN9Fx1",
        "outputId": "4277fc1b-444e-4740-dc6c-9debb56a8718",
        "colab": {
          "base_uri": "https://localhost:8080/"
        }
      },
      "outputs": [
        {
          "output_type": "execute_result",
          "data": {
            "text/plain": [
              "[1, 3, 5, 6, 7, 9]"
            ]
          },
          "metadata": {},
          "execution_count": 9
        }
      ],
      "source": [
        "numlist.extend([7,9])\n",
        "numlist\n",
        "#insert multiple elements"
      ]
    },
    {
      "cell_type": "code",
      "execution_count": 10,
      "metadata": {
        "id": "LUuNRQC49Fx2",
        "outputId": "da137586-8366-4ca3-c5de-4ad8e1b404fd",
        "colab": {
          "base_uri": "https://localhost:8080/"
        }
      },
      "outputs": [
        {
          "output_type": "execute_result",
          "data": {
            "text/plain": [
              "[1, 2, 3, 5, 6, 7, 9]"
            ]
          },
          "metadata": {},
          "execution_count": 10
        }
      ],
      "source": [
        "numlist.insert(1,2)\n",
        "numlist\n",
        "#insert 2 at position 1 - the second position"
      ]
    },
    {
      "cell_type": "code",
      "execution_count": 11,
      "metadata": {
        "id": "MR4UcUJk9Fx2",
        "outputId": "a9d40ad7-380e-4ed5-9376-2e0095ab1f5e",
        "colab": {
          "base_uri": "https://localhost:8080/"
        }
      },
      "outputs": [
        {
          "output_type": "execute_result",
          "data": {
            "text/plain": [
              "[1, 2, 3, 4, 5, 6, 7, 9]"
            ]
          },
          "metadata": {},
          "execution_count": 11
        }
      ],
      "source": [
        "numlist.insert(3,4)\n",
        "numlist\n",
        "#insert 4 at position 3 - the fourth position"
      ]
    },
    {
      "cell_type": "code",
      "execution_count": 14,
      "metadata": {
        "id": "we4RQXQW9Fx2",
        "outputId": "d80ab8fc-51b2-454c-bb8d-2eb478d2b7ac",
        "colab": {
          "base_uri": "https://localhost:8080/"
        }
      },
      "outputs": [
        {
          "output_type": "execute_result",
          "data": {
            "text/plain": [
              "[1, 2, 3, 4, 5, 6, 7, 8, 8, 8, 9]"
            ]
          },
          "metadata": {},
          "execution_count": 14
        }
      ],
      "source": [
        "numlist.insert(-1,8)\n",
        "numlist\n",
        "#inserted 8 at the last second position"
      ]
    },
    {
      "cell_type": "code",
      "execution_count": null,
      "metadata": {
        "id": "vZN0bCg49Fx2",
        "outputId": "a8ce041a-3b50-44c5-830a-abce6236ad72",
        "colab": {
          "base_uri": "https://localhost:8080/"
        }
      },
      "outputs": [
        {
          "output_type": "execute_result",
          "data": {
            "text/plain": [
              "[]"
            ]
          },
          "metadata": {},
          "execution_count": 23
        }
      ],
      "source": [
        "numlist.clear()\n",
        "numlist"
      ]
    },
    {
      "cell_type": "code",
      "execution_count": null,
      "metadata": {
        "id": "1i_Z66pv9Fx2",
        "outputId": "f39a0013-62fc-49ac-9bd6-3354b2cf7e1b",
        "colab": {
          "base_uri": "https://localhost:8080/"
        }
      },
      "outputs": [
        {
          "output_type": "execute_result",
          "data": {
            "text/plain": [
              "[1, 2, 3, 4, 5]"
            ]
          },
          "metadata": {},
          "execution_count": 32
        }
      ],
      "source": [
        "numlist = list(range(1,6))\n",
        "numlist"
      ]
    },
    {
      "cell_type": "code",
      "execution_count": null,
      "metadata": {
        "id": "pqGSykY29Fx2",
        "outputId": "bc84b914-bf36-407d-af4b-692e89432645",
        "colab": {
          "base_uri": "https://localhost:8080/"
        }
      },
      "outputs": [
        {
          "output_type": "execute_result",
          "data": {
            "text/plain": [
              "[3, 4]"
            ]
          },
          "metadata": {},
          "execution_count": 27
        }
      ],
      "source": [
        "numlist.pop(-1)\n",
        "numlist"
      ]
    },
    {
      "cell_type": "code",
      "execution_count": null,
      "metadata": {
        "id": "xFMjmfIy9Fx3",
        "outputId": "db4ddd93-ec5e-428d-956c-ec62ca0176b3",
        "colab": {
          "base_uri": "https://localhost:8080/"
        }
      },
      "outputs": [
        {
          "output_type": "execute_result",
          "data": {
            "text/plain": [
              "4"
            ]
          },
          "metadata": {},
          "execution_count": 29
        }
      ],
      "source": [
        "numlist.pop(1)"
      ]
    },
    {
      "cell_type": "code",
      "execution_count": null,
      "metadata": {
        "id": "WXkVQ0as9Fx3",
        "outputId": "ef4ffe30-03c6-47ae-d47e-1a7fe017f4f1",
        "colab": {
          "base_uri": "https://localhost:8080/"
        }
      },
      "outputs": [
        {
          "output_type": "execute_result",
          "data": {
            "text/plain": [
              "5"
            ]
          },
          "metadata": {},
          "execution_count": 33
        }
      ],
      "source": [
        "numlist.pop()"
      ]
    },
    {
      "cell_type": "code",
      "execution_count": null,
      "metadata": {
        "id": "WXt6iWRt9Fx3",
        "outputId": "79855434-7ffc-446d-e909-aba9daca1d29",
        "colab": {
          "base_uri": "https://localhost:8080/"
        }
      },
      "outputs": [
        {
          "output_type": "execute_result",
          "data": {
            "text/plain": [
              "[1, 2, 3, 4]"
            ]
          },
          "metadata": {},
          "execution_count": 34
        }
      ],
      "source": [
        "numlist"
      ]
    },
    {
      "cell_type": "code",
      "execution_count": null,
      "metadata": {
        "id": "a7ozWbLV9Fx3"
      },
      "outputs": [],
      "source": [
        "numlist.remove(3)"
      ]
    },
    {
      "cell_type": "code",
      "execution_count": null,
      "metadata": {
        "id": "5UjLSOnV9Fx3",
        "outputId": "c3c9b363-f299-49a9-e623-99d757db866a",
        "colab": {
          "base_uri": "https://localhost:8080/"
        }
      },
      "outputs": [
        {
          "output_type": "execute_result",
          "data": {
            "text/plain": [
              "[1, 2, 4]"
            ]
          },
          "metadata": {},
          "execution_count": 36
        }
      ],
      "source": [
        "numlist"
      ]
    },
    {
      "cell_type": "code",
      "execution_count": null,
      "metadata": {
        "id": "rs2d0imA9Fx3"
      },
      "outputs": [],
      "source": [
        "alphabet = ['a','b','c','d']"
      ]
    },
    {
      "cell_type": "code",
      "execution_count": null,
      "metadata": {
        "id": "K9WcGEbc9Fx3",
        "outputId": "24f7a4a0-e7fc-42f1-e2c6-21164f1aaeba",
        "colab": {
          "base_uri": "https://localhost:8080/"
        }
      },
      "outputs": [
        {
          "output_type": "execute_result",
          "data": {
            "text/plain": [
              "2"
            ]
          },
          "metadata": {},
          "execution_count": 38
        }
      ],
      "source": [
        "alphabet.index('c')"
      ]
    },
    {
      "cell_type": "code",
      "execution_count": null,
      "metadata": {
        "id": "0lIpDuWM9Fx4",
        "outputId": "51e7b1fa-fb79-45c4-a352-b671a6558748",
        "colab": {
          "base_uri": "https://localhost:8080/"
        }
      },
      "outputs": [
        {
          "output_type": "execute_result",
          "data": {
            "text/plain": [
              "2"
            ]
          },
          "metadata": {},
          "execution_count": 39
        }
      ],
      "source": [
        "words = ['fat','cat','sat','mat','sat','mat']\n",
        "words.count('sat')"
      ]
    },
    {
      "cell_type": "code",
      "execution_count": null,
      "metadata": {
        "id": "fuEOQKbO9Fx4",
        "outputId": "509aa4b2-25f7-4189-8fce-53eb37545d24",
        "colab": {
          "base_uri": "https://localhost:8080/",
          "height": 35
        }
      },
      "outputs": [
        {
          "output_type": "execute_result",
          "data": {
            "text/plain": [
              "'fat cat sat mat sat mat'"
            ],
            "application/vnd.google.colaboratory.intrinsic+json": {
              "type": "string"
            }
          },
          "metadata": {},
          "execution_count": 40
        }
      ],
      "source": [
        "' '.join(words)"
      ]
    },
    {
      "cell_type": "code",
      "execution_count": null,
      "metadata": {
        "id": "vAO1msan9Fx4",
        "outputId": "ad0f3f36-5722-4339-928c-d61c3136f719",
        "colab": {
          "base_uri": "https://localhost:8080/"
        }
      },
      "outputs": [
        {
          "output_type": "execute_result",
          "data": {
            "text/plain": [
              "range(1, 4)"
            ]
          },
          "metadata": {},
          "execution_count": 41
        }
      ],
      "source": [
        "range(1,4)"
      ]
    },
    {
      "cell_type": "code",
      "execution_count": null,
      "metadata": {
        "id": "U9HIXvgr9Fx4",
        "outputId": "6c14613f-3328-499a-f218-648112dc68a2",
        "colab": {
          "base_uri": "https://localhost:8080/"
        }
      },
      "outputs": [
        {
          "output_type": "execute_result",
          "data": {
            "text/plain": [
              "[1, 2, 3]"
            ]
          },
          "metadata": {},
          "execution_count": 43
        }
      ],
      "source": [
        "list(range(1,4))"
      ]
    },
    {
      "cell_type": "code",
      "execution_count": null,
      "metadata": {
        "id": "tLoRwk5V9Fx4"
      },
      "outputs": [],
      "source": []
    }
  ],
  "metadata": {
    "kernelspec": {
      "display_name": "Python 3",
      "language": "python",
      "name": "python3"
    },
    "language_info": {
      "codemirror_mode": {
        "name": "ipython",
        "version": 3
      },
      "file_extension": ".py",
      "mimetype": "text/x-python",
      "name": "python",
      "nbconvert_exporter": "python",
      "pygments_lexer": "ipython3",
      "version": "3.7.4"
    },
    "colab": {
      "provenance": [],
      "include_colab_link": true
    }
  },
  "nbformat": 4,
  "nbformat_minor": 0
}