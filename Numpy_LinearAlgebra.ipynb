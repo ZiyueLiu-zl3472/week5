{
  "cells": [
    {
      "cell_type": "markdown",
      "metadata": {
        "id": "view-in-github",
        "colab_type": "text"
      },
      "source": [
        "<a href=\"https://colab.research.google.com/github/ZiyueLiu-zl3472/week5/blob/main/Numpy_LinearAlgebra.ipynb\" target=\"_parent\"><img src=\"https://colab.research.google.com/assets/colab-badge.svg\" alt=\"Open In Colab\"/></a>"
      ]
    },
    {
      "cell_type": "code",
      "execution_count": 1,
      "metadata": {
        "id": "YvDDbs43z8bV"
      },
      "outputs": [],
      "source": [
        "import numpy as np"
      ]
    },
    {
      "cell_type": "code",
      "execution_count": 2,
      "metadata": {
        "id": "IQoYbOeiz8ba"
      },
      "outputs": [],
      "source": [
        "mat = np.arange(100,116).reshape(4,4)\n",
        "#put into 4 by 4 matrix"
      ]
    },
    {
      "cell_type": "code",
      "source": [
        "print(mat)"
      ],
      "metadata": {
        "colab": {
          "base_uri": "https://localhost:8080/"
        },
        "id": "spTcoiLYlJlc",
        "outputId": "de82dba7-e6a6-41f0-90f8-a8ceafbbfea9"
      },
      "execution_count": 3,
      "outputs": [
        {
          "output_type": "stream",
          "name": "stdout",
          "text": [
            "[[100 101 102 103]\n",
            " [104 105 106 107]\n",
            " [108 109 110 111]\n",
            " [112 113 114 115]]\n"
          ]
        }
      ]
    },
    {
      "cell_type": "code",
      "execution_count": 4,
      "metadata": {
        "id": "0dzTTEexz8ba"
      },
      "outputs": [],
      "source": [
        "matInv=np.linalg.inv(mat)\n",
        "#get the inverse\n"
      ]
    },
    {
      "cell_type": "code",
      "source": [
        "matInv@mat"
      ],
      "metadata": {
        "id": "Q8IqyO5L8hJB",
        "outputId": "bb5ac15f-2114-4f68-ec5c-91902ee45359",
        "colab": {
          "base_uri": "https://localhost:8080/"
        }
      },
      "execution_count": 5,
      "outputs": [
        {
          "output_type": "execute_result",
          "data": {
            "text/plain": [
              "array([[ 0.       , -0.8125   , -0.625    , -1.4375   ],\n",
              "       [ 0.       ,  0.       ,  0.       ,  0.       ],\n",
              "       [ 0.875    ,  0.8828125,  0.890625 ,  0.8984375],\n",
              "       [-1.125    , -0.2421875,  0.640625 ,  0.5234375]])"
            ]
          },
          "metadata": {},
          "execution_count": 5
        }
      ]
    },
    {
      "cell_type": "code",
      "execution_count": 6,
      "metadata": {
        "colab": {
          "base_uri": "https://localhost:8080/"
        },
        "id": "nN51DA6Fz8bc",
        "outputId": "0ae4154f-6c70-4153-da09-d9c1304fde3f"
      },
      "outputs": [
        {
          "output_type": "execute_result",
          "data": {
            "text/plain": [
              "EigResult(eigenvalues=array([ 4.30185966e+02, -1.85966085e-01, -4.47083143e-15,  1.19197020e-14]), eigenvectors=array([[-0.47169744,  0.67598178,  0.21536006,  0.19939064],\n",
              "       [-0.49027799,  0.22879235,  0.08821977, -0.64609049],\n",
              "       [-0.50885854, -0.21839709, -0.82251973,  0.69400908],\n",
              "       [-0.52743909, -0.66558652,  0.51893989, -0.24730922]]))"
            ]
          },
          "metadata": {},
          "execution_count": 6
        }
      ],
      "source": [
        "np.linalg.eig(mat)"
      ]
    },
    {
      "cell_type": "code",
      "execution_count": 10,
      "metadata": {
        "colab": {
          "base_uri": "https://localhost:8080/"
        },
        "id": "WdLvp_Qdz8bc",
        "outputId": "496ebaa9-e885-488c-a2d7-ae493d4a44ec"
      },
      "outputs": [
        {
          "output_type": "execute_result",
          "data": {
            "text/plain": [
              "array([ 9.5, 10. ])"
            ]
          },
          "metadata": {},
          "execution_count": 10
        }
      ],
      "source": [
        "X = np.array([[1,2],[3,4]])#independent variable\n",
        "y = np.array([5,6])#dependent variable\n",
        "z=np.linalg.solve(X,y)\n",
        "z@X"
      ]
    },
    {
      "cell_type": "code",
      "source": [
        "X@z"
      ],
      "metadata": {
        "colab": {
          "base_uri": "https://localhost:8080/"
        },
        "id": "Z6KqOVUK8BuU",
        "outputId": "77104601-97a9-4c5f-80c8-02536d6d6e34"
      },
      "execution_count": null,
      "outputs": [
        {
          "output_type": "execute_result",
          "data": {
            "text/plain": [
              "array([5., 6.])"
            ]
          },
          "metadata": {},
          "execution_count": 8
        }
      ]
    },
    {
      "cell_type": "code",
      "execution_count": null,
      "metadata": {
        "colab": {
          "base_uri": "https://localhost:8080/"
        },
        "id": "F4xLKr3Tz8bd",
        "outputId": "bd927343-af1d-4f0a-df0d-5cf2fe688244"
      },
      "outputs": [
        {
          "output_type": "execute_result",
          "data": {
            "text/plain": [
              "array([[43056, 43462, 43868, 44274],\n",
              "       [44752, 45174, 45596, 46018],\n",
              "       [46448, 46886, 47324, 47762],\n",
              "       [48144, 48598, 49052, 49506]])"
            ]
          },
          "metadata": {},
          "execution_count": 9
        }
      ],
      "source": [
        "mat @ mat"
      ]
    },
    {
      "cell_type": "code",
      "source": [
        "mat[0]"
      ],
      "metadata": {
        "colab": {
          "base_uri": "https://localhost:8080/"
        },
        "id": "OtFd5yFN89PA",
        "outputId": "679624a6-bd4d-4cef-87d5-bbe8d39927ab"
      },
      "execution_count": null,
      "outputs": [
        {
          "output_type": "execute_result",
          "data": {
            "text/plain": [
              "array([100, 101, 102, 103])"
            ]
          },
          "metadata": {},
          "execution_count": 16
        }
      ]
    },
    {
      "cell_type": "code",
      "execution_count": null,
      "metadata": {
        "colab": {
          "base_uri": "https://localhost:8080/"
        },
        "id": "PLnGlXEzz8bd",
        "outputId": "8ec20ccc-13b3-407a-d005-4d7118067a6a"
      },
      "outputs": [
        {
          "output_type": "execute_result",
          "data": {
            "text/plain": [
              "array([43056, 43462, 43868, 44274])"
            ]
          },
          "metadata": {},
          "execution_count": 10
        }
      ],
      "source": [
        "mat[0] @ mat"
      ]
    },
    {
      "cell_type": "code",
      "execution_count": null,
      "metadata": {
        "colab": {
          "base_uri": "https://localhost:8080/"
        },
        "id": "TnZO9O5_z8be",
        "outputId": "79a8943a-2640-42d8-9a25-cd78bea9bdd4"
      },
      "outputs": [
        {
          "output_type": "execute_result",
          "data": {
            "text/plain": [
              "array([41214, 42838, 44462, 46086])"
            ]
          },
          "metadata": {},
          "execution_count": 11
        }
      ],
      "source": [
        "mat @ mat[0]"
      ]
    },
    {
      "cell_type": "code",
      "execution_count": null,
      "metadata": {
        "colab": {
          "base_uri": "https://localhost:8080/"
        },
        "id": "l_zyq_2Yz8bf",
        "outputId": "02782c83-cc3e-4d4d-9f98-4b2aa0328bc5"
      },
      "outputs": [
        {
          "output_type": "execute_result",
          "data": {
            "text/plain": [
              "array([41214, 42838, 44462, 46086])"
            ]
          },
          "metadata": {},
          "execution_count": 13
        }
      ],
      "source": [
        "mat @ mat[0].T"
      ]
    },
    {
      "cell_type": "code",
      "source": [
        "mat.T\n",
        "#transpose"
      ],
      "metadata": {
        "colab": {
          "base_uri": "https://localhost:8080/"
        },
        "id": "jwhgN7wq1R9F",
        "outputId": "301e018f-6274-48de-dbc1-d1df681ff341"
      },
      "execution_count": null,
      "outputs": [
        {
          "output_type": "execute_result",
          "data": {
            "text/plain": [
              "array([[100, 104, 108, 112],\n",
              "       [101, 105, 109, 113],\n",
              "       [102, 106, 110, 114],\n",
              "       [103, 107, 111, 115]])"
            ]
          },
          "metadata": {},
          "execution_count": 17
        }
      ]
    },
    {
      "cell_type": "code",
      "execution_count": null,
      "metadata": {
        "colab": {
          "base_uri": "https://localhost:8080/"
        },
        "id": "OI2AVKQ0z8bf",
        "outputId": "f66c11c4-2e17-41bf-d672-c34fdc41a635"
      },
      "outputs": [
        {
          "output_type": "execute_result",
          "data": {
            "text/plain": [
              "array([[100, 101, 102, 103],\n",
              "       [104, 105, 106, 107],\n",
              "       [108, 109, 110, 111],\n",
              "       [112, 113, 114, 115]])"
            ]
          },
          "metadata": {},
          "execution_count": 15
        }
      ],
      "source": [
        "mat"
      ]
    }
  ],
  "metadata": {
    "kernelspec": {
      "display_name": "Python 3",
      "language": "python",
      "name": "python3"
    },
    "language_info": {
      "codemirror_mode": {
        "name": "ipython",
        "version": 3
      },
      "file_extension": ".py",
      "mimetype": "text/x-python",
      "name": "python",
      "nbconvert_exporter": "python",
      "pygments_lexer": "ipython3",
      "version": "3.7.4"
    },
    "colab": {
      "provenance": [],
      "include_colab_link": true
    }
  },
  "nbformat": 4,
  "nbformat_minor": 0
}