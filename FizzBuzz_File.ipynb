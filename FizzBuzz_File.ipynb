{
  "nbformat": 4,
  "nbformat_minor": 0,
  "metadata": {
    "colab": {
      "provenance": [],
      "authorship_tag": "ABX9TyPusjDlz2RcDu3jZ4FKqvgL",
      "include_colab_link": true
    },
    "kernelspec": {
      "name": "python3",
      "display_name": "Python 3"
    },
    "language_info": {
      "name": "python"
    }
  },
  "cells": [
    {
      "cell_type": "markdown",
      "metadata": {
        "id": "view-in-github",
        "colab_type": "text"
      },
      "source": [
        "<a href=\"https://colab.research.google.com/github/ZiyueLiu-zl3472/week5/blob/main/FizzBuzz_File.ipynb\" target=\"_parent\"><img src=\"https://colab.research.google.com/assets/colab-badge.svg\" alt=\"Open In Colab\"/></a>"
      ]
    },
    {
      "cell_type": "code",
      "execution_count": 4,
      "metadata": {
        "id": "AV7a_PSULZ42",
        "colab": {
          "base_uri": "https://localhost:8080/"
        },
        "outputId": "66057410-2764-4bee-c485-89e31b7ac74c"
      },
      "outputs": [
        {
          "output_type": "stream",
          "name": "stdout",
          "text": [
            "['buzz' 41 'fizz' 43 44 'fizzbuzz']\n"
          ]
        }
      ],
      "source": [
        "import numpy as np\n",
        "\n",
        "def FizzBuzz(start, finish):\n",
        "  start=40\n",
        "  finish=45+1\n",
        "  numvec=np.arange(start, finish)\n",
        "  objvec=np.array(numvec,dtype=object)\n",
        "\n",
        "  Fizz=numvec%3==0\n",
        "  objvec[Fizz] = \"fizz\"\n",
        "\n",
        "  Buzz=numvec%5==0\n",
        "  objvec[Buzz] = \"buzz\"\n",
        "\n",
        "  FizzBuzz=numvec%15==0\n",
        "  objvec[FizzBuzz] = \"fizzbuzz\"\n",
        "\n",
        "  return(objvec)\n",
        "\n",
        "print(FizzBuzz(40,45))"
      ]
    }
  ]
}