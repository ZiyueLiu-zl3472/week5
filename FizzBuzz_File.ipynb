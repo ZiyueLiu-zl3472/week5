{
  "nbformat": 4,
  "nbformat_minor": 0,
  "metadata": {
    "colab": {
      "provenance": [],
      "authorship_tag": "ABX9TyMiWTxeLoogAXOucTBe0eRZ",
      "include_colab_link": true
    },
    "kernelspec": {
      "name": "python3",
      "display_name": "Python 3"
    },
    "language_info": {
      "name": "python"
    }
  },
  "cells": [
    {
      "cell_type": "markdown",
      "metadata": {
        "id": "view-in-github",
        "colab_type": "text"
      },
      "source": [
        "<a href=\"https://colab.research.google.com/github/ZiyueLiu-zl3472/week5/blob/main/FizzBuzz_File.ipynb\" target=\"_parent\"><img src=\"https://colab.research.google.com/assets/colab-badge.svg\" alt=\"Open In Colab\"/></a>"
      ]
    },
    {
      "cell_type": "code",
      "execution_count": null,
      "metadata": {
        "id": "AV7a_PSULZ42"
      },
      "outputs": [],
      "source": [
        "import numpy as np\n",
        "\n",
        "def FizzBuzz(start, finish):\n",
        "  start=91\n",
        "  finish=105+1\n",
        "  numvec=np.arange(start, finish)\n",
        "  objvec=np.array(numvec,dtype=object)\n",
        "\n",
        "  Fizz=numvec%3==0\n",
        "  objvec[Fizz] = \"fizz\"\n",
        "\n",
        "  Buzz=numvec%5==0\n",
        "  objvec[Buzz] = \"buzz\"\n",
        "\n",
        "  FizzBuzz=numvec%15==0\n",
        "  objvec[FizzBuzz] = \"fizzbuzz\"\n",
        "\n",
        "  return(objvec)\n",
        "\n",
        "print(FizzBuzz(91,105))"
      ]
    }
  ]
}