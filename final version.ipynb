{
  "nbformat": 4,
  "nbformat_minor": 0,
  "metadata": {
    "colab": {
      "provenance": [],
      "authorship_tag": "ABX9TyPJ5+8ylzv6iyE/JboMapXU",
      "include_colab_link": true
    },
    "kernelspec": {
      "name": "python3",
      "display_name": "Python 3"
    },
    "language_info": {
      "name": "python"
    }
  },
  "cells": [
    {
      "cell_type": "markdown",
      "metadata": {
        "id": "view-in-github",
        "colab_type": "text"
      },
      "source": [
        "<a href=\"https://colab.research.google.com/github/ZiyueLiu-zl3472/week5/blob/main/final%20version.ipynb\" target=\"_parent\"><img src=\"https://colab.research.google.com/assets/colab-badge.svg\" alt=\"Open In Colab\"/></a>"
      ]
    },
    {
      "cell_type": "code",
      "source": [
        "#1. WhoAmI\n",
        "def WhoAmI():\n",
        "  return('zl3472')"
      ],
      "metadata": {
        "id": "b63aZ-ZyM0as"
      },
      "execution_count": 13,
      "outputs": []
    },
    {
      "cell_type": "code",
      "source": [
        "#2. getBondPrice\n",
        "import numpy as np\n",
        "\n",
        "def getBondPrice(y, face, couponRate, m, ppy=1):\n",
        "    years=np.arange(1,m*ppy+1)\n",
        "    df=1/(1+y/ppy)\n",
        "    dfs=df**years\n",
        "    cpn=couponRate*face/ppy\n",
        "    cf=dfs*cpn\n",
        "\n",
        "    BondPrice=sum(cf)+dfs[-1]*face\n",
        "    return(BondPrice)\n",
        "\n",
        "# Test values\n",
        "\n",
        "y = 0.03\n",
        "face = 2000000\n",
        "couponRate = 0.04\n",
        "m = 10\n",
        "ppy=1\n",
        "ppy=2\n",
        "\n",
        "getBondPrice(y, face, couponRate, m, ppy)"
      ],
      "metadata": {
        "colab": {
          "base_uri": "https://localhost:8080/"
        },
        "id": "2qC4gMBSM0Ur",
        "outputId": "78971d0b-302d-45b9-8166-749e8a0bc3ee"
      },
      "execution_count": 27,
      "outputs": [
        {
          "output_type": "execute_result",
          "data": {
            "text/plain": [
              "2171686.3878508243"
            ]
          },
          "metadata": {},
          "execution_count": 27
        }
      ]
    },
    {
      "cell_type": "code",
      "source": [
        "#3. getBondDuration\n",
        "import numpy as np\n",
        "\n",
        "def getBondDuration(y, face, couponRate, m, ppy=1):\n",
        "  years=np.arange(1,m+1)\n",
        "  df=1/(1+y/ppy)\n",
        "  dfs=df**years\n",
        "  cpn=couponRate*face/ppy\n",
        "  cf=dfs*cpn\n",
        "  w=cf*years\n",
        "\n",
        "  sumCF=sum(cf)+dfs[-1]*face\n",
        "  sumW=sum(w)+dfs[-1]*face*years[-1]\n",
        "  print(sumW)\n",
        "\n",
        "  BondDuration=sumW/sumCF\n",
        "\n",
        "  return(BondDuration)\n",
        "\n",
        "# Test values\n",
        "\n",
        "y = 0.03\n",
        "face = 2000000\n",
        "couponRate = 0.04\n",
        "m = 10\n",
        "ppy = 1\n",
        "\n",
        "getBondDuration(y, face, couponRate, m, ppy)"
      ],
      "metadata": {
        "colab": {
          "base_uri": "https://localhost:8080/"
        },
        "id": "HB2l5zROM0Rn",
        "outputId": "ecb24936-a986-4b67-9136-3e7517931b17"
      },
      "execution_count": 39,
      "outputs": [
        {
          "output_type": "stream",
          "name": "stdout",
          "text": [
            "18468997.692366116\n"
          ]
        },
        {
          "output_type": "execute_result",
          "data": {
            "text/plain": [
              "8.508690304459575"
            ]
          },
          "metadata": {},
          "execution_count": 39
        }
      ]
    },
    {
      "cell_type": "code",
      "execution_count": 74,
      "metadata": {
        "colab": {
          "base_uri": "https://localhost:8080/"
        },
        "id": "bZtnSPPVE0MO",
        "outputId": "c97d290e-2423-44a9-f406-e5dc74f43ada"
      },
      "outputs": [
        {
          "output_type": "stream",
          "name": "stdout",
          "text": [
            "[91 92 'fizz' 94 'buzz' 'fizz' 97 98 'fizz' 'buzz' 101 'fizz' 103 104\n",
            " 'fizzbuzz']\n"
          ]
        }
      ],
      "source": [
        "#4. FizzBuzz\n",
        "import numpy as np\n",
        "\n",
        "def FizzBuzz(start, finish):\n",
        "  start=91\n",
        "  finish=105+1\n",
        "  numvec=np.arange(start, finish)\n",
        "  objvec=np.array(numvec,dtype=object)\n",
        "\n",
        "  Fizz=numvec%3==0\n",
        "  objvec[Fizz] = \"fizz\"\n",
        "\n",
        "  Buzz=numvec%5==0\n",
        "  objvec[Buzz] = \"buzz\"\n",
        "\n",
        "  FizzBuzz=numvec%15==0\n",
        "  objvec[FizzBuzz] = \"fizzbuzz\"\n",
        "\n",
        "  return(objvec)\n",
        "\n",
        "print(FizzBuzz(91,105))"
      ]
    }
  ]
}