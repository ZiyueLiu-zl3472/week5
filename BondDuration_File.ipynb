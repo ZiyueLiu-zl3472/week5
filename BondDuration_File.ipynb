{
  "nbformat": 4,
  "nbformat_minor": 0,
  "metadata": {
    "colab": {
      "provenance": [],
      "authorship_tag": "ABX9TyNOs4wecH84De8ScfVoIBIn",
      "include_colab_link": true
    },
    "kernelspec": {
      "name": "python3",
      "display_name": "Python 3"
    },
    "language_info": {
      "name": "python"
    }
  },
  "cells": [
    {
      "cell_type": "markdown",
      "metadata": {
        "id": "view-in-github",
        "colab_type": "text"
      },
      "source": [
        "<a href=\"https://colab.research.google.com/github/ZiyueLiu-zl3472/week5/blob/main/BondDuration_File.ipynb\" target=\"_parent\"><img src=\"https://colab.research.google.com/assets/colab-badge.svg\" alt=\"Open In Colab\"/></a>"
      ]
    },
    {
      "cell_type": "code",
      "execution_count": 8,
      "metadata": {
        "colab": {
          "base_uri": "https://localhost:8080/"
        },
        "id": "I6WXHtuJK8b3",
        "outputId": "8449d2e4-075d-4ced-f48d-a31900592e3c"
      },
      "outputs": [
        {
          "output_type": "execute_result",
          "data": {
            "text/plain": [
              "8.508690304459574"
            ]
          },
          "metadata": {},
          "execution_count": 8
        }
      ],
      "source": [
        "import numpy as np\n",
        "\n",
        "def getBondDuration(y, face, couponRate, m, ppy=1):\n",
        "  years=np.arange(1,m*ppy+1)/ppy #you divide by ppy to reflect the real semi-annual payments every half year\n",
        "  df=1/(1+y/ppy)\n",
        "  dfs=df**np.arange(1,m*ppy+1)\n",
        "  cpn=couponRate*face/ppy\n",
        "  cf=dfs*cpn\n",
        "  w=cf*years\n",
        "\n",
        "  sumCF=cf.sum()+dfs[-1]*face\n",
        "  sumW=w.sum()+dfs[-1]*face*years[-1]\n",
        "\n",
        "  BondDuration=sumW/sumCF\n",
        "\n",
        "  return(BondDuration)\n",
        "\n",
        "# Test values\n",
        "\n",
        "y = 0.03\n",
        "face = 2000000\n",
        "couponRate = 0.04\n",
        "m = 10\n",
        "ppy = 1\n",
        "ppy = 2\n",
        "\n",
        "getBondDuration(y, face, couponRate, m, ppy)"
      ]
    }
  ]
}