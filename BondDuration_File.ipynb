{
  "nbformat": 4,
  "nbformat_minor": 0,
  "metadata": {
    "colab": {
      "provenance": [],
      "authorship_tag": "ABX9TyMik1l77SVSDH/zbpN32Ud8",
      "include_colab_link": true
    },
    "kernelspec": {
      "name": "python3",
      "display_name": "Python 3"
    },
    "language_info": {
      "name": "python"
    }
  },
  "cells": [
    {
      "cell_type": "markdown",
      "metadata": {
        "id": "view-in-github",
        "colab_type": "text"
      },
      "source": [
        "<a href=\"https://colab.research.google.com/github/ZiyueLiu-zl3472/week5/blob/main/BondDuration_File.ipynb\" target=\"_parent\"><img src=\"https://colab.research.google.com/assets/colab-badge.svg\" alt=\"Open In Colab\"/></a>"
      ]
    },
    {
      "cell_type": "code",
      "execution_count": 2,
      "metadata": {
        "colab": {
          "base_uri": "https://localhost:8080/"
        },
        "id": "I6WXHtuJK8b3",
        "outputId": "7fedeff8-66e3-46a4-a8ed-3d35a38d72aa"
      },
      "outputs": [
        {
          "output_type": "execute_result",
          "data": {
            "text/plain": [
              "8.508690304459575"
            ]
          },
          "metadata": {},
          "execution_count": 2
        }
      ],
      "source": [
        "import numpy as np\n",
        "\n",
        "def getBondDuration(y, face, couponRate, m, ppy=1):\n",
        "  years=np.arange(1,m+1)\n",
        "  df=1/(1+y/ppy)\n",
        "  dfs=df**years\n",
        "  cpn=couponRate*face/ppy\n",
        "  cf=dfs*cpn\n",
        "  w=cf*years\n",
        "\n",
        "  sumCF=sum(cf)+dfs[-1]*face\n",
        "  sumW=sum(w)+dfs[-1]*face*years[-1]\n",
        "\n",
        "  BondDuration=sumW/sumCF\n",
        "\n",
        "  return(BondDuration)\n",
        "\n",
        "# Test values\n",
        "\n",
        "y = 0.03\n",
        "face = 2000000\n",
        "couponRate = 0.04\n",
        "m = 10\n",
        "ppy = 1\n",
        "\n",
        "getBondDuration(y, face, couponRate, m, ppy)"
      ]
    }
  ]
}