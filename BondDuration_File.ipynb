{
  "nbformat": 4,
  "nbformat_minor": 0,
  "metadata": {
    "colab": {
      "provenance": [],
      "authorship_tag": "ABX9TyOZhaepHk2/DKi3SQWkSsLz",
      "include_colab_link": true
    },
    "kernelspec": {
      "name": "python3",
      "display_name": "Python 3"
    },
    "language_info": {
      "name": "python"
    }
  },
  "cells": [
    {
      "cell_type": "markdown",
      "metadata": {
        "id": "view-in-github",
        "colab_type": "text"
      },
      "source": [
        "<a href=\"https://colab.research.google.com/github/ZiyueLiu-zl3472/week5/blob/main/BondDuration_File.ipynb\" target=\"_parent\"><img src=\"https://colab.research.google.com/assets/colab-badge.svg\" alt=\"Open In Colab\"/></a>"
      ]
    },
    {
      "cell_type": "code",
      "execution_count": 6,
      "metadata": {
        "colab": {
          "base_uri": "https://localhost:8080/"
        },
        "id": "I6WXHtuJK8b3",
        "outputId": "4ea88ce6-29e8-45b6-8be1-fb961e08258e"
      },
      "outputs": [
        {
          "output_type": "stream",
          "name": "stdout",
          "text": [
            "[ 0.5  1.   1.5  2.   2.5  3.   3.5  4.   4.5  5.   5.5  6.   6.5  7.\n",
            "  7.5  8.   8.5  9.   9.5 10. ]\n",
            "[0.98522167 0.97066175 0.95631699 0.94218423 0.92826033 0.91454219\n",
            " 0.90102679 0.88771112 0.87459224 0.86166723 0.84893323 0.83638742\n",
            " 0.82402702 0.81184928 0.7998515  0.78803104 0.77638526 0.76491159\n",
            " 0.75360747 0.74247042]\n"
          ]
        },
        {
          "output_type": "execute_result",
          "data": {
            "text/plain": [
              "8.419764690678015"
            ]
          },
          "metadata": {},
          "execution_count": 6
        }
      ],
      "source": [
        "import numpy as np\n",
        "\n",
        "def getBondDuration(y, face, couponRate, m, ppy=1):\n",
        "  years=np.arange(1,m*ppy+1)/ppy\n",
        "  print(years)\n",
        "  df=1/(1+y/ppy)\n",
        "  dfs=df**np.arange(1,m*ppy+1)\n",
        "  print(dfs)\n",
        "  cpn=couponRate*face/ppy\n",
        "  cf=dfs*cpn\n",
        "  w=cf*years\n",
        "\n",
        "  sumCF=cf.sum()+dfs[-1]*face\n",
        "  sumW=w.sum()+dfs[-1]*face*years[-1]\n",
        "\n",
        "  BondDuration=sumW/sumCF\n",
        "\n",
        "  return(BondDuration)\n",
        "\n",
        "# Test values\n",
        "\n",
        "y = 0.03\n",
        "face = 2000000\n",
        "couponRate = 0.04\n",
        "m = 10\n",
        "ppy = 1\n",
        "ppy = 2\n",
        "\n",
        "getBondDuration(y, face, couponRate, m, 2)"
      ]
    }
  ]
}