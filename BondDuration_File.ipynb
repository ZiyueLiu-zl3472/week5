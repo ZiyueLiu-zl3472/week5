{
  "nbformat": 4,
  "nbformat_minor": 0,
  "metadata": {
    "colab": {
      "provenance": [],
      "authorship_tag": "ABX9TyMwEFqiYqzImqgEUtr9vjma",
      "include_colab_link": true
    },
    "kernelspec": {
      "name": "python3",
      "display_name": "Python 3"
    },
    "language_info": {
      "name": "python"
    }
  },
  "cells": [
    {
      "cell_type": "markdown",
      "metadata": {
        "id": "view-in-github",
        "colab_type": "text"
      },
      "source": [
        "<a href=\"https://colab.research.google.com/github/ZiyueLiu-zl3472/week5/blob/main/BondDuration_File.ipynb\" target=\"_parent\"><img src=\"https://colab.research.google.com/assets/colab-badge.svg\" alt=\"Open In Colab\"/></a>"
      ]
    },
    {
      "cell_type": "code",
      "execution_count": 15,
      "metadata": {
        "colab": {
          "base_uri": "https://localhost:8080/"
        },
        "id": "I6WXHtuJK8b3",
        "outputId": "3036ae63-188a-4c35-9643-9dd982a2a7c9"
      },
      "outputs": [
        {
          "output_type": "execute_result",
          "data": {
            "text/plain": [
              "8.419764690678015"
            ]
          },
          "metadata": {},
          "execution_count": 15
        }
      ],
      "source": [
        "import numpy as np\n",
        "\n",
        "def getBondDuration(y, face, couponRate, m, ppy=1):\n",
        "  years=np.arange(1,m*ppy+1)/ppy\n",
        "  df=1/(1+y/ppy)\n",
        "  dfs=df**np.arange(1,m*ppy+1)\n",
        "  cpn=couponRate*face/ppy\n",
        "  cf=dfs*cpn\n",
        "  w=cf*years\n",
        "\n",
        "  sumCF=cf.sum()+dfs[-1]*face\n",
        "  sumW=w.sum()+dfs[-1]*face*years[-1]\n",
        "\n",
        "  BondDuration=sumW/sumCF\n",
        "\n",
        "  return(BondDuration)\n",
        "\n",
        "# Test values\n",
        "\n",
        "y = 0.03\n",
        "face = 2000000\n",
        "couponRate = 0.04\n",
        "m = 10\n",
        "ppy = 1\n",
        "ppy = 2\n",
        "\n",
        "getBondDuration(y, face, couponRate, m, 2)"
      ]
    }
  ]
}